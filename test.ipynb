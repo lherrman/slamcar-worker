{
 "cells": [
  {
   "cell_type": "code",
   "execution_count": 6,
   "metadata": {},
   "outputs": [
    {
     "name": "stdout",
     "output_type": "stream",
     "text": [
      "[+] Connecting to 10.0.0.21:5001\n",
      "[+] Connected.\n"
     ]
    },
    {
     "name": "stderr",
     "output_type": "stream",
     "text": [
      "Sending test.jpg:   0%|          | 0.00/128k [00:00<?, ?B/s]"
     ]
    }
   ],
   "source": [
    "import socket\n",
    "import tqdm\n",
    "import os\n",
    "\n",
    "SEPARATOR = \"<SEPARATOR>\"\n",
    "BUFFER_SIZE = 4096 # send 4096 bytes each time step\n",
    "\n",
    "# the ip address or hostname of the server, the receiver\n",
    "host = \"10.0.0.21\"\n",
    "# the port, let's use 5001\n",
    "port = 5001\n",
    "# the name of file we want to send, make sure it exists\n",
    "filename = \"test.jpg\"\n",
    "# get the file size\n",
    "filesize = os.path.getsize(filename)\n",
    "\n",
    "# create the client socket\n",
    "s = socket.socket()\n",
    "\n",
    "print(f\"[+] Connecting to {host}:{port}\")\n",
    "s.connect((host, port))\n",
    "print(\"[+] Connected.\")\n",
    "\n",
    "# send the filename and filesize\n",
    "s.send(f\"{filename}{SEPARATOR}{filesize}\".encode())\n",
    "\n",
    "# start sending the file\n",
    "progress = tqdm.tqdm(range(filesize), f\"Sending {filename}\", unit=\"B\", unit_scale=True, unit_divisor=1024)\n",
    "with open(filename, \"rb\") as f:\n",
    "    while True:\n",
    "        # read the bytes from the file\n",
    "        bytes_read = f.read(BUFFER_SIZE)\n",
    "        if not bytes_read:\n",
    "            # file transmitting is done\n",
    "            break\n",
    "        # we use sendall to assure transimission in \n",
    "        # busy networks\n",
    "        s.sendall(bytes_read)\n",
    "        # update the progress bar\n",
    "        progress.update(len(bytes_read))\n",
    "# close the socket\n",
    "s.close()"
   ]
  }
 ],
 "metadata": {
  "kernelspec": {
   "display_name": "env",
   "language": "python",
   "name": "python3"
  },
  "language_info": {
   "codemirror_mode": {
    "name": "ipython",
    "version": 3
   },
   "file_extension": ".py",
   "mimetype": "text/x-python",
   "name": "python",
   "nbconvert_exporter": "python",
   "pygments_lexer": "ipython3",
   "version": "3.9.2"
  },
  "orig_nbformat": 4
 },
 "nbformat": 4,
 "nbformat_minor": 2
}
