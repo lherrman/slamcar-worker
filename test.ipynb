{
 "cells": [
  {
   "cell_type": "code",
   "execution_count": 2,
   "metadata": {},
   "outputs": [
    {
     "name": "stderr",
     "output_type": "stream",
     "text": [
      "Camera __init__ sequence did not complete.\n",
      "[0:07:50.638449116] [2000] \u001b[1;31mERROR \u001b[1;37mCamera \u001b[1;34mcamera.cpp:526 \u001b[0mCamera in Configured state trying acquire() requiring state Available\n"
     ]
    },
    {
     "ename": "RuntimeError",
     "evalue": "Camera __init__ sequence did not complete.",
     "output_type": "error",
     "traceback": [
      "\u001b[0;31m---------------------------------------------------------------------------\u001b[0m",
      "\u001b[0;31mRuntimeError\u001b[0m                              Traceback (most recent call last)",
      "File \u001b[0;32m/usr/lib/python3/dist-packages/picamera2/picamera2.py:242\u001b[0m, in \u001b[0;36mPicamera2.__init__\u001b[0;34m(self, camera_num, verbose_console, tuning)\u001b[0m\n\u001b[1;32m    241\u001b[0m \u001b[39mtry\u001b[39;00m:\n\u001b[0;32m--> 242\u001b[0m     \u001b[39mself\u001b[39;49m\u001b[39m.\u001b[39;49m_open_camera()\n\u001b[1;32m    243\u001b[0m     _log\u001b[39m.\u001b[39mdebug(\u001b[39mf\u001b[39m\u001b[39m\"\u001b[39m\u001b[39m{\u001b[39;00m\u001b[39mself\u001b[39m\u001b[39m.\u001b[39mcamera_manager\u001b[39m}\u001b[39;00m\u001b[39m\"\u001b[39m)\n",
      "File \u001b[0;32m/usr/lib/python3/dist-packages/picamera2/picamera2.py:441\u001b[0m, in \u001b[0;36mPicamera2._open_camera\u001b[0;34m(self)\u001b[0m\n\u001b[1;32m    440\u001b[0m \u001b[39mif\u001b[39;00m acq_code \u001b[39m!=\u001b[39m \u001b[39m0\u001b[39m:\n\u001b[0;32m--> 441\u001b[0m     \u001b[39mraise\u001b[39;00m \u001b[39mRuntimeError\u001b[39;00m(\u001b[39mf\u001b[39m\u001b[39m\"\u001b[39m\u001b[39mcamera.acquire() returned unexpected code: \u001b[39m\u001b[39m{\u001b[39;00macq_code\u001b[39m}\u001b[39;00m\u001b[39m\"\u001b[39m)\n\u001b[1;32m    443\u001b[0m \u001b[39mself\u001b[39m\u001b[39m.\u001b[39mis_open \u001b[39m=\u001b[39m \u001b[39mTrue\u001b[39;00m\n",
      "\u001b[0;31mRuntimeError\u001b[0m: camera.acquire() returned unexpected code: -16",
      "\nDuring handling of the above exception, another exception occurred:\n",
      "\u001b[0;31mRuntimeError\u001b[0m                              Traceback (most recent call last)",
      "Cell \u001b[0;32mIn[2], line 3\u001b[0m\n\u001b[1;32m      1\u001b[0m \u001b[39mfrom\u001b[39;00m \u001b[39mpicamera2\u001b[39;00m \u001b[39mimport\u001b[39;00m Picamera2\n\u001b[0;32m----> 3\u001b[0m picam2 \u001b[39m=\u001b[39m Picamera2()\n\u001b[1;32m      4\u001b[0m config \u001b[39m=\u001b[39m picam2\u001b[39m.\u001b[39mcreate_still_configuration()\n\u001b[1;32m      5\u001b[0m picam2\u001b[39m.\u001b[39mconfigure(config)\n",
      "File \u001b[0;32m/usr/lib/python3/dist-packages/picamera2/picamera2.py:249\u001b[0m, in \u001b[0;36mPicamera2.__init__\u001b[0;34m(self, camera_num, verbose_console, tuning)\u001b[0m\n\u001b[1;32m    247\u001b[0m \u001b[39mexcept\u001b[39;00m \u001b[39mException\u001b[39;00m:\n\u001b[1;32m    248\u001b[0m     _log\u001b[39m.\u001b[39merror(\u001b[39m\"\u001b[39m\u001b[39mCamera __init__ sequence did not complete.\u001b[39m\u001b[39m\"\u001b[39m)\n\u001b[0;32m--> 249\u001b[0m     \u001b[39mraise\u001b[39;00m \u001b[39mRuntimeError\u001b[39;00m(\u001b[39m\"\u001b[39m\u001b[39mCamera __init__ sequence did not complete.\u001b[39m\u001b[39m\"\u001b[39m)\n\u001b[1;32m    250\u001b[0m \u001b[39mfinally\u001b[39;00m:\n\u001b[1;32m    251\u001b[0m     \u001b[39mif\u001b[39;00m tuning_file \u001b[39mis\u001b[39;00m \u001b[39mnot\u001b[39;00m \u001b[39mNone\u001b[39;00m:\n",
      "\u001b[0;31mRuntimeError\u001b[0m: Camera __init__ sequence did not complete."
     ]
    }
   ],
   "source": [
    "from picamera2 import Picamera2\n",
    "\n",
    "picam2 = Picamera2()\n",
    "config = picam2.create_still_configuration()\n",
    "picam2.configure(config)\n",
    "\n",
    "picam2.start()\n",
    "\n",
    "np_array = picam2.capture_array()\n",
    "print(np_array)\n",
    "picam2.capture_file(\"demo.jpg\")\n",
    "picam2.stop()\n",
    "\n"
   ]
  },
  {
   "cell_type": "code",
   "execution_count": 3,
   "metadata": {},
   "outputs": [],
   "source": [
    "\n",
    "# destroy the camera\n",
    "picam2.close()"
   ]
  }
 ],
 "metadata": {
  "kernelspec": {
   "display_name": "env",
   "language": "python",
   "name": "python3"
  },
  "language_info": {
   "codemirror_mode": {
    "name": "ipython",
    "version": 3
   },
   "file_extension": ".py",
   "mimetype": "text/x-python",
   "name": "python",
   "nbconvert_exporter": "python",
   "pygments_lexer": "ipython3",
   "version": "3.9.2"
  },
  "orig_nbformat": 4
 },
 "nbformat": 4,
 "nbformat_minor": 2
}
