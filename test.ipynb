{
 "cells": [
  {
   "cell_type": "code",
   "execution_count": 1,
   "metadata": {},
   "outputs": [
    {
     "name": "stdout",
     "output_type": "stream",
     "text": [
      "  _____ _                  _____                    ___  __ \n",
      " / ____| |                / ____|                  / _ \\/_ |\n",
      "| (___ | | __ _ _ __ ___ | |     __ _ _ __  __   _| | | || |\n",
      " \\___ \\| |/ _` | '_ ` _ \\| |    / _` | '__| \\ \\ / / | | || |\n",
      " ____) | | (_| | | | | | | |___| (_| | |     \\ V /| |_| || |\n",
      "|_____/|_|\\__,_|_| |_| |_|\\_____\\__,_|_|      \\_/  \\___(_)_|\n",
      "                                                            \n",
      "                                                            \n",
      "\n"
     ]
    }
   ],
   "source": [
    "\n"
   ]
  },
  {
   "cell_type": "markdown",
   "metadata": {},
   "source": []
  }
 ],
 "metadata": {
  "kernelspec": {
   "display_name": "env",
   "language": "python",
   "name": "python3"
  },
  "language_info": {
   "codemirror_mode": {
    "name": "ipython",
    "version": 3
   },
   "file_extension": ".py",
   "mimetype": "text/x-python",
   "name": "python",
   "nbconvert_exporter": "python",
   "pygments_lexer": "ipython3",
   "version": "3.9.2"
  },
  "orig_nbformat": 4
 },
 "nbformat": 4,
 "nbformat_minor": 2
}
